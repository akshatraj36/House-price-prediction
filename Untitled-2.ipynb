{
 "cells": [
  {
   "cell_type": "code",
   "execution_count": 1,
   "metadata": {},
   "outputs": [],
   "source": [
    "import pandas as pd\n",
    "import numpy as np\n",
    "from sklearn.ensemble import GradientBoostingRegressor as GR\n",
    "from sklearn.ensemble import AdaBoostRegressor as AG\n",
    "from sklearn.ensemble import RandomForestRegressor as RG\n",
    "from sklearn.metrics import r2_score\n",
    "from sklearn.ensemble import StackingRegressor as SRG\n",
    "from sklearn.linear_model import RidgeCV\n",
    "from sklearn.linear_model import LinearRegression\n",
    "from sklearn.model_selection import train_test_split\n",
    "from sklearn import preprocessing\n",
    "from sklearn.preprocessing import StandardScaler\n",
    "from sklearn import preprocessing\n",
    "le = preprocessing.LabelEncoder()"
   ]
  },
  {
   "cell_type": "code",
   "execution_count": 4,
   "metadata": {},
   "outputs": [
    {
     "name": "stdout",
     "output_type": "stream",
     "text": [
      "Frq removed\t Linear\t\t\t Random forest\t\tAdaboost\t\tGradint Boost\t\tStack\n",
      "15 \t\t 0.3920107163986676 \t 0.5947669170368506 \t 0.22105391643074368 \t 0.5585905243333557 \t 0.5920306893145358\n",
      "16 \t\t 0.3818581865369126 \t 0.7073897999553933 \t 0.5531817040946723 \t 0.7067413872681274 \t 0.7117014654043436\n",
      "17 \t\t 0.40353921640229484 \t 0.6993449627142421 \t 0.5075102941357907 \t 0.679929295719275 \t 0.7021906752196321\n",
      "18 \t\t 0.4356256763263122 \t 0.7345236229224832 \t 0.46670301219700006 \t 0.7696032229597962 \t 0.7739187221984375\n",
      "19 \t\t -0.858947130536664 \t 0.6747016614415235 \t 0.5883778767845754 \t 0.6729640909768211 \t 0.7028436057227434\n",
      "20 \t\t 0.4473537898211527 \t 0.7561575328141568 \t 0.5110916746705725 \t 0.7266730193267292 \t 0.7573907193065411\n",
      "21 \t\t 0.364583878823758 \t 0.6673223257673385 \t 0.4585799996600951 \t 0.6612424171924824 \t 0.6786257592553986\n",
      "22 \t\t 0.42146195541680576 \t 0.7719310877121741 \t 0.6221297375083622 \t 0.8078617950434517 \t 0.8050825928036681\n",
      "23 \t\t 0.1332760422855297 \t 0.7689593266650797 \t 0.5469392934497606 \t 0.774644047287725 \t 0.7893750603970393\n",
      "24 \t\t 0.4080740245148631 \t 0.6912121880709452 \t 0.45188820440825694 \t 0.702697259484185 \t 0.7159346735703622\n",
      "25 \t\t 0.4166398196554557 \t 0.6772794721185682 \t -0.11697997785385716 \t 0.7105454540568457 \t 0.7132718188423013\n",
      "26 \t\t 0.37370252491112754 \t 0.71566967163082 \t 0.4994422993808796 \t 0.6570278583772614 \t 0.6922320175714068\n",
      "27 \t\t 0.3618308086904748 \t 0.663494743084007 \t -0.4389134678956059 \t 0.668860759694714 \t 0.684029880083888\n",
      "28 \t\t 0.4363395415642396 \t 0.6571204036300045 \t 0.29255040713755365 \t 0.677708876782805 \t 0.6979737512365753\n",
      "29 \t\t 0.3624713798844399 \t 0.6275490073345763 \t 0.4356460443715484 \t 0.6326745606669637 \t 0.6485586277929529\n"
     ]
    }
   ],
   "source": [
    "data = pd.read_csv('sample_beng.csv')\n",
    "\n",
    "\n",
    "data.price = data.price / 10000\n",
    "data['bath']=data['bath'].astype(int)\n",
    "data['bhk'] = data['bhk'].astype('int64')\n",
    "data['balcony'] = data['balcony'].astype('int64')\n",
    "\n",
    "\n",
    "from sklearn import preprocessing\n",
    "le = preprocessing.LabelEncoder()\n",
    "data.location = le.fit_transform(data['location'])\n",
    "\n",
    "\n",
    "print(\"Frq removed\\t Linear\\t\\t\\t Random forest\\t\\tAdaboost\\t\\tGradint Boost\\t\\tStack\")\n",
    "for n in range (15,30):\n",
    "    ls = data.location.unique()\n",
    "    new=[]\n",
    "    local = list(data.location)\n",
    "    for i in range (0,len(local)):\n",
    "        if len(data[data['location']==local[i]].index) < n:\n",
    "            new.append(local[i])\n",
    "    for i in range (0,len(new)):\n",
    "        indexs = data[data['location']==new[i]].index\n",
    "        data.drop(indexs,inplace = True)\n",
    "\n",
    "    train_data = data.select_dtypes( include = [np.number])\n",
    "    y=train_data['price']\n",
    "    x=train_data[['location','total_sqft','balcony','bath','bhk']]\n",
    "    x_train,x_test,y_train,y_test = train_test_split(x,y,test_size = 0.2, random_state = 50)\n",
    "    lr = LinearRegression()\n",
    "    lr.fit(x_train, y_train)\n",
    "    first_pred = lr.score(x_test, y_test)\n",
    "    \n",
    "    reg = RG()\n",
    "    reg.fit(x_train, y_train)\n",
    "    pred = reg.predict(x_test)\n",
    "    sec_pred = r2_score(y_test, pred)\n",
    "\n",
    "    ada_reg = AG()\n",
    "    ada_reg.fit(x_train,y_train)\n",
    "    predic = ada_reg.predict(x_test)\n",
    "    thrd_pred = r2_score(y_test,predic)\n",
    "\n",
    "    gb_reg = GR()\n",
    "    gb_reg.fit(x_train,y_train)\n",
    "    predictn = gb_reg.predict(x_test)\n",
    "    four_pred = r2_score(y_test,predictn)\n",
    "\n",
    "    est = [(\"Gradient_Boost\",gb_reg),(\"Random_Forest\",reg),(\"Ada_Boosting\",ada_reg)]\n",
    "    stackr = SRG(estimators = est, final_estimator = LinearRegression())\n",
    "    stackr.fit(x_train,y_train)\n",
    "    predn = stackr.predict(x_test)\n",
    "    final_pred = r2_score(y_test, predn)\n",
    "\n",
    "    print(n,\"\\t\\t\",first_pred,\"\\t\",sec_pred,\"\\t\",thrd_pred,\"\\t\",four_pred,\"\\t\",final_pred)\n"
   ]
  },
  {
   "cell_type": "code",
   "execution_count": null,
   "metadata": {},
   "outputs": [],
   "source": []
  }
 ],
 "metadata": {
  "kernelspec": {
   "display_name": "Python 3.9.13 64-bit (windows store)",
   "language": "python",
   "name": "python3"
  },
  "language_info": {
   "codemirror_mode": {
    "name": "ipython",
    "version": 3
   },
   "file_extension": ".py",
   "mimetype": "text/x-python",
   "name": "python",
   "nbconvert_exporter": "python",
   "pygments_lexer": "ipython3",
   "version": "3.9.13"
  },
  "orig_nbformat": 4,
  "vscode": {
   "interpreter": {
    "hash": "9e751d02d6254c91a5337ccacd3da0a06bef2f97f2b707c83ebd4c7968b8ad4d"
   }
  }
 },
 "nbformat": 4,
 "nbformat_minor": 2
}
